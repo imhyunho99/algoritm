{
 "cells": [
  {
   "cell_type": "code",
   "execution_count": null,
   "id": "f6d3e83b",
   "metadata": {},
   "outputs": [
    {
     "data": {
      "text/plain": [
       "'\\n문제 설명\\n숫자로 이루어진 리스트 nums가 주어집니다. nums의 각 숫자를 순회하면서, 만약 숫자의 값이 자신의 인덱스 번호보다 크다면 그 숫자에 2를 곱한 값을, 그렇지 않다면 원래 숫자를 새로운 리스트에 담아 반환하는 함수 process_list를 작성하세요.\\n\\n제한 사항\\n\\nnums는 0 또는 양의 정수로만 이루어져 있습니다.\\n\\nfor와 enumerate를 사용하여 문제를 해결해 보세요.\\n\\n입출력 예시\\n\\nnums\\treturn\\n[0, 1, 5, 2, 6]\\t[0, 1, 10, 2, 12]\\n'"
      ]
     },
     "execution_count": 1,
     "metadata": {},
     "output_type": "execute_result"
    }
   ],
   "source": [
    "\"\"\"\n",
    "문제 설명\n",
    "숫자로 이루어진 리스트 nums가 주어집니다. nums의 각 숫자를 순회하면서, 만약 숫자의 값이 자신의 인덱스 번호보다 크다면 그 숫자에 2를 곱한 값을, 그렇지 않다면 원래 숫자를 새로운 리스트에 담아 반환하는 함수 \n",
    "process_list를 작성하세요.\n",
    "\n",
    "제한 사항\n",
    "\n",
    "nums는 0 또는 양의 정수로만 이루어져 있습니다.\n",
    "\n",
    "for와 enumerate를 사용하여 문제를 해결해 보세요.\n",
    "\n",
    "입출력 예시\n",
    "\n",
    "nums\treturn\n",
    "[0, 1, 5, 2, 6]\t[0, 1, 10, 2, 12]\n",
    "\"\"\""
   ]
  },
  {
   "cell_type": "code",
   "execution_count": null,
   "id": "b8e2d67c",
   "metadata": {},
   "outputs": [],
   "source": [
    "def process_list(nums):\n",
    "    for idx, num in enumerate(nums):\n",
    "        if num > idx:\n",
    "            nums[idx] = num*2\n",
    "    return nums\n",
    "\n",
    "\n",
    "#list comprehenstion     return [num * 2 if num > idx else num for idx, num in enumerate(nums)]\n"
   ]
  },
  {
   "cell_type": "code",
   "execution_count": 4,
   "id": "1d0c7180",
   "metadata": {},
   "outputs": [
    {
     "data": {
      "text/plain": [
       "'\\n문제 설명\\n숫자로 이루어진 리스트 nums가 주어집니다. a + b 가 target인것이 단 하나 있다면 그것의 인덱스를 리스트로 반환\\nprocess_list를 작성하세요.\\n'"
      ]
     },
     "execution_count": 4,
     "metadata": {},
     "output_type": "execute_result"
    }
   ],
   "source": [
    "\"\"\"\n",
    "문제 설명\n",
    "숫자로 이루어진 리스트 nums가 주어집니다. a + b 가 target인것이 단 하나 있다면 그것의 인덱스를 리스트로 반환\n",
    "process_list를 작성하세요.\n",
    "\"\"\"\n"
   ]
  },
  {
   "cell_type": "code",
   "execution_count": 12,
   "id": "cb831ed6",
   "metadata": {},
   "outputs": [],
   "source": [
    "def process_list(nums, target):\n",
    "    num_dict = {}\n",
    "    for idx, num in enumerate(nums):\n",
    "        rest = target - num\n",
    "        if rest in num_dict:\n",
    "            return [idx, num_dict[rest]]\n",
    "        \n",
    "        num_dict[num] = idx\n"
   ]
  },
  {
   "cell_type": "code",
   "execution_count": null,
   "id": "cbff4eba",
   "metadata": {},
   "outputs": [],
   "source": [
    "\"\"\"\n",
    "문제 설명\n",
    "과일 이름이 담긴 리스트 fruits가 주어집니다. 각 과일이 몇 번씩 등장하는지를 세어 딕셔너리 형태로 반환하는 함수 count_fruits를 작성하세요.\n",
    "\n",
    "입출력 예시\n",
    "\n",
    "입력: ['사과', '바나나', '사과', '딸기', '바나나', '사과']\n",
    "\n",
    "결과: {'사과': 3, '바나나': 2, '딸기': 1\n",
    "\"\"\"\n",
    "\n",
    "def count_fruits(fruits):\n",
    "    fruit_dict = {}\n",
    "    for fruit in (fruits):\n",
    "        \"\"\"\n",
    "        if fruit in fruit_dict:\n",
    "            fruit_dict[fruit] += 1\n",
    "        else:\n",
    "            fruit_dict[fruit] = 1\n",
    "        \"\"\"\n",
    "\n",
    "        fruit_dict[fruit] = fruit_dict.get(fruit, 0) + 1  #dict.get 사용\n",
    "    return fruit_dict\n",
    "\n",
    "from collections import Counter  #거의 동일한 로직을 빠른시간에 짧게 만들어줌\n",
    "def count_fruits_with_counter(fruits):\n",
    "    return Counter(fruits)\n"
   ]
  },
  {
   "cell_type": "code",
   "execution_count": null,
   "id": "bbb515d4",
   "metadata": {},
   "outputs": [],
   "source": [
    "\"\"\"\n",
    "문제 설명\n",
    "서로 다른 이름이 담긴 리스트 names가 주어집니다. 각 이름을 Key로, 해당 이름의 인덱스를 Value로 갖는 딕셔너리를 반환하는 함수를 작성하세요.\n",
    "\n",
    "입출력 예시\n",
    "\n",
    "입력: ['철수', '영희', '민수']\n",
    "\n",
    "결과: {'철수': 0, '영희': 1, '민수': 2}\n",
    "\"\"\"\n",
    "\n",
    "def name_dict(names):\n",
    "    return {name : index for index, name in enumerate(names)}"
   ]
  },
  {
   "cell_type": "code",
   "execution_count": null,
   "id": "3000b72a",
   "metadata": {},
   "outputs": [],
   "source": [
    "\"\"\"\n",
    "문제 설명\n",
    "마라톤 참가자 리스트 participant와 완주자 리스트 completion이 주어집니다. 완주하지 못한 유일한 한 명의 선수를 찾아 반환하는 함수를 작성하세요. 참가자 중에는 동명이인이 있을 수 있습니다.\n",
    "\n",
    "입출력 예시\n",
    "\n",
    "입력: participant = [\"mislav\", \"stanko\", \"mislav\", \"ana\"], completion = [\"stanko\", \"ana\", \"mislav\"]\n",
    "\n",
    "결과: \"mislav\"\n",
    "\"\"\"\n",
    "\n",
    "def marathon_participate(participants, completions):\n",
    "    counts = Counter(participants)    \n",
    "    counts.subtract(Counter(completions))\n",
    "    for name, count in counts.items():\n",
    "        if count > 0:\n",
    "            return name\n"
   ]
  },
  {
   "cell_type": "code",
   "execution_count": null,
   "id": "907c6bc0",
   "metadata": {},
   "outputs": [],
   "source": []
  }
 ],
 "metadata": {
  "kernelspec": {
   "display_name": "base",
   "language": "python",
   "name": "python3"
  },
  "language_info": {
   "codemirror_mode": {
    "name": "ipython",
    "version": 3
   },
   "file_extension": ".py",
   "mimetype": "text/x-python",
   "name": "python",
   "nbconvert_exporter": "python",
   "pygments_lexer": "ipython3",
   "version": "3.12.4"
  }
 },
 "nbformat": 4,
 "nbformat_minor": 5
}
