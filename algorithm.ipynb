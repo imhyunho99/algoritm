{
 "cells": [
  {
   "cell_type": "code",
   "execution_count": null,
   "id": "159e6a57",
   "metadata": {},
   "outputs": [
    {
     "name": "stdout",
     "output_type": "stream",
     "text": [
      "[[False, False, False, False], [False, False, False, False], [False, False, False, False], [False, False, False, False]]\n"
     ]
    },
    {
     "data": {
      "text/plain": [
       "['51231519', '1']"
      ]
     },
     "execution_count": 2,
     "metadata": {},
     "output_type": "execute_result"
    }
   ],
   "source": [
    "#무인도 여행\n",
    "# import sys\n",
    "sys.setrecursionlimit(10000)\n",
    "\n",
    "def solution(maps):\n",
    "    n, m = len(maps), len(maps[0])  \n",
    "    visited = [[False] * m for _ in range(n)]\n",
    "    \n",
    "    def dfs(x, y):\n",
    "        visited[x][y] = True\n",
    "        total = int(maps[x][y])  \n",
    "        \n",
    "        for dx, dy in [(-1,0), (1,0), (0,-1), (0,1)]:\n",
    "            nx, ny = x + dx, y + dy\n",
    "            if 0 <= nx < n and 0 <= ny < m:        \n",
    "                if not visited[nx][ny] and maps[nx][ny] != 'X':\n",
    "                    total += dfs(nx, ny)\n",
    "        return total\n",
    "    \n",
    "    answer = []\n",
    "    for i in range(n):\n",
    "        for j in range(m):\n",
    "            if not visited[i][j] and maps[i][j] != 'X':  \n",
    "                answer.append(dfs(i, j))\n",
    "    \n",
    "    if not answer:  \n",
    "        return [-1]\n",
    "    return sorted(answer)\n"
   ]
  },
  {
   "cell_type": "code",
   "execution_count": 1,
   "id": "574edcf1",
   "metadata": {},
   "outputs": [],
   "source": [
    "#영어 끝말잇기\n",
    "def solution(n, words):\n",
    "    used = set()\n",
    "    used.add(words[0])\n",
    "\n",
    "    for i in range(1, len(words)):\n",
    "        prev = words[i-1]\n",
    "        curr = words[i]\n",
    "\n",
    "        if curr in used or prev[-1] != curr[0]:\n",
    "            person = (i % n) + 1          \n",
    "            turn = (i // n) + 1          \n",
    "            return [person, turn]\n",
    "        used.add(curr)\n",
    "\n",
    "    return [0, 0]\n"
   ]
  },
  {
   "cell_type": "code",
   "execution_count": 2,
   "id": "7a703324",
   "metadata": {},
   "outputs": [],
   "source": [
    "#올바른 괄호\n",
    "def solution(s):\n",
    "    answer = True\n",
    "    count = 0\n",
    "    for i in s:\n",
    "        if i == '(': count += 1 \n",
    "        else: count -= 1\n",
    "        \n",
    "        if count < 0:\n",
    "            return False\n",
    "    if count != 0: return False\n",
    "\n",
    "    return True"
   ]
  },
  {
   "cell_type": "code",
   "execution_count": null,
   "id": "14134478",
   "metadata": {},
   "outputs": [],
   "source": [
    "#숫자 짝꿍\n",
    "def solution(X, Y):\n",
    "    answer = ''\n",
    "    num_list_x = [0]*10\n",
    "    num_list_y = [0]*10\n",
    "    num_list = [0]*10\n",
    "    \n",
    "    for i in X:\n",
    "        num_list_x[int(i)] += 1 \n",
    "    for i in Y:\n",
    "        num_list_y[int(i)] += 1 \n",
    "    for i in range(10):\n",
    "        num_list[i] = min(num_list_x[i],num_list_y[i])\n",
    "        \n",
    "\n",
    "    if sum(num_list) == 0:\n",
    "        answer = \"-1\"\n",
    "    else:\n",
    "        if sum(num_list[1:]) != 0:\n",
    "            for i in range(9,-1,-1):\n",
    "                answer += str(i)*num_list[i]\n",
    "        else:\n",
    "            answer = \"0\"\n",
    "            \n",
    "    return answer\n",
    "\n"
   ]
  },
  {
   "cell_type": "code",
   "execution_count": null,
   "id": "6234f72e",
   "metadata": {},
   "outputs": [],
   "source": [
    "#소수 만들기\n",
    "def solution(nums):\n",
    "    l = len(nums)\n",
    "    cnt = 0\n",
    "    def odd(n):\n",
    "        for pivot in range(n-1, 1,-1):\n",
    "            if n%pivot == 0:\n",
    "                return False\n",
    "        return True\n",
    "        \n",
    "    for i in range(l-2):\n",
    "        for j in range(i+1,l-1):\n",
    "            for h in range(j+1,l):\n",
    "                if odd(nums[i]+nums[j]+nums[h]) == True:\n",
    "                    cnt += 1\n",
    "\n",
    "    return cnt"
   ]
  },
  {
   "cell_type": "code",
   "execution_count": null,
   "id": "a36cd35c",
   "metadata": {},
   "outputs": [],
   "source": [
    "\"\"\"문제 설명\n",
    "당신은 폰켓몬을 잡기 위한 오랜 여행 끝에, 홍 박사님의 연구실에 도착했습니다. 홍 박사님은 당신에게 자신의 연구실에 있는 총 N 마리의 폰켓몬 중에서 N/2마리를 가져가도 좋다고 했습니다.\n",
    "홍 박사님 연구실의 폰켓몬은 종류에 따라 번호를 붙여 구분합니다. 따라서 같은 종류의 폰켓몬은 같은 번호를 가지고 있습니다. 예를 들어 연구실에 총 4마리의 폰켓몬이 있고, 각 폰켓몬의 종류 번호가 [3번, 1번, 2번, 3번]이라면 이는 3번 폰켓몬 두 마리, 1번 폰켓몬 한 마리, 2번 폰켓몬 한 마리가 있음을 나타냅니다. 이때, 4마리의 폰켓몬 중 2마리를 고르는 방법은 다음과 같이 6가지가 있습니다.\n",
    "\n",
    "첫 번째(3번), 두 번째(1번) 폰켓몬을 선택\n",
    "첫 번째(3번), 세 번째(2번) 폰켓몬을 선택\n",
    "첫 번째(3번), 네 번째(3번) 폰켓몬을 선택\n",
    "두 번째(1번), 세 번째(2번) 폰켓몬을 선택\n",
    "두 번째(1번), 네 번째(3번) 폰켓몬을 선택\n",
    "세 번째(2번), 네 번째(3번) 폰켓몬을 선택\n",
    "이때, 첫 번째(3번) 폰켓몬과 네 번째(3번) 폰켓몬을 선택하는 방법은 한 종류(3번 폰켓몬 두 마리)의 폰켓몬만 가질 수 있지만, 다른 방법들은 모두 두 종류의 폰켓몬을 가질 수 있습니다. 따라서 위 예시에서 가질 수 있는 폰켓몬 종류 수의 최댓값은 2가 됩니다.\n",
    "당신은 최대한 다양한 종류의 폰켓몬을 가지길 원하기 때문에, 최대한 많은 종류의 폰켓몬을 포함해서 N/2마리를 선택하려 합니다. N마리 폰켓몬의 종류 번호가 담긴 배열 nums가 매개변수로 주어질 때, N/2마리의 폰켓몬을 선택하는 방법 중, 가장 많은 종류의 폰켓몬을 선택하는 방법을 찾아, 그때의 폰켓몬 종류 번호의 개수를 return 하도록 solution 함수를 완성해주세요.\n",
    "\n",
    "제한사항\n",
    "nums는 폰켓몬의 종류 번호가 담긴 1차원 배열입니다.\n",
    "nums의 길이(N)는 1 이상 10,000 이하의 자연수이며, 항상 짝수로 주어집니다.\n",
    "폰켓몬의 종류 번호는 1 이상 200,000 이하의 자연수로 나타냅니다.\n",
    "가장 많은 종류의 폰켓몬을 선택하는 방법이 여러 가지인 경우에도, 선택할 수 있는 폰켓몬 종류 개수의 최댓값 하나만 return 하면 됩니다.\"\"\"\n",
    "\n",
    "def solution(nums):\n",
    "    pocketmon_dict = {}\n",
    "    for num in nums:\n",
    "        pocketmon_dict[num] = pocketmon_dict.get(num, 0) + 1\n",
    "    if len(pocketmon_dict) > len(nums)/2:\n",
    "        return len(nums)/2\n",
    "    else:\n",
    "        return len(pocketmon_dict)\n",
    "        "
   ]
  }
 ],
 "metadata": {
  "kernelspec": {
   "display_name": "base",
   "language": "python",
   "name": "python3"
  },
  "language_info": {
   "codemirror_mode": {
    "name": "ipython",
    "version": 3
   },
   "file_extension": ".py",
   "mimetype": "text/x-python",
   "name": "python",
   "nbconvert_exporter": "python",
   "pygments_lexer": "ipython3",
   "version": "3.12.4"
  }
 },
 "nbformat": 4,
 "nbformat_minor": 5
}
