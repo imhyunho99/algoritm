{
 "cells": [
  {
   "cell_type": "code",
   "execution_count": null,
   "id": "159e6a57",
   "metadata": {},
   "outputs": [
    {
     "name": "stdout",
     "output_type": "stream",
     "text": [
      "[[False, False, False, False], [False, False, False, False], [False, False, False, False], [False, False, False, False]]\n"
     ]
    },
    {
     "data": {
      "text/plain": [
       "['51231519', '1']"
      ]
     },
     "execution_count": 2,
     "metadata": {},
     "output_type": "execute_result"
    }
   ],
   "source": [
    "#무인도 여행\n",
    "# import sys\n",
    "sys.setrecursionlimit(10000)\n",
    "\n",
    "def solution(maps):\n",
    "    n, m = len(maps), len(maps[0])  \n",
    "    visited = [[False] * m for _ in range(n)]\n",
    "    \n",
    "    def dfs(x, y):\n",
    "        visited[x][y] = True\n",
    "        total = int(maps[x][y])  \n",
    "        \n",
    "        for dx, dy in [(-1,0), (1,0), (0,-1), (0,1)]:\n",
    "            nx, ny = x + dx, y + dy\n",
    "            if 0 <= nx < n and 0 <= ny < m:        \n",
    "                if not visited[nx][ny] and maps[nx][ny] != 'X':\n",
    "                    total += dfs(nx, ny)\n",
    "        return total\n",
    "    \n",
    "    answer = []\n",
    "    for i in range(n):\n",
    "        for j in range(m):\n",
    "            if not visited[i][j] and maps[i][j] != 'X':  \n",
    "                answer.append(dfs(i, j))\n",
    "    \n",
    "    if not answer:  \n",
    "        return [-1]\n",
    "    return sorted(answer)\n"
   ]
  },
  {
   "cell_type": "code",
   "execution_count": 1,
   "id": "574edcf1",
   "metadata": {},
   "outputs": [],
   "source": [
    "#영어 끝말잇기\n",
    "def solution(n, words):\n",
    "    used = set()\n",
    "    used.add(words[0])\n",
    "\n",
    "    for i in range(1, len(words)):\n",
    "        prev = words[i-1]\n",
    "        curr = words[i]\n",
    "\n",
    "        if curr in used or prev[-1] != curr[0]:\n",
    "            person = (i % n) + 1          \n",
    "            turn = (i // n) + 1          \n",
    "            return [person, turn]\n",
    "        used.add(curr)\n",
    "\n",
    "    return [0, 0]\n"
   ]
  },
  {
   "cell_type": "code",
   "execution_count": 2,
   "id": "7a703324",
   "metadata": {},
   "outputs": [],
   "source": [
    "#올바른 괄호\n",
    "def solution(s):\n",
    "    answer = True\n",
    "    count = 0\n",
    "    for i in s:\n",
    "        if i == '(': count += 1 \n",
    "        else: count -= 1\n",
    "        \n",
    "        if count < 0:\n",
    "            return False\n",
    "    if count != 0: return False\n",
    "\n",
    "    return True"
   ]
  },
  {
   "cell_type": "code",
   "execution_count": null,
   "id": "14134478",
   "metadata": {},
   "outputs": [],
   "source": [
    "#숫자 짝꿍\n",
    "def solution(X, Y):\n",
    "    answer = ''\n",
    "    num_list_x = [0]*10\n",
    "    num_list_y = [0]*10\n",
    "    num_list = [0]*10\n",
    "    \n",
    "    for i in X:\n",
    "        num_list_x[int(i)] += 1 \n",
    "    for i in Y:\n",
    "        num_list_y[int(i)] += 1 \n",
    "    for i in range(10):\n",
    "        num_list[i] = min(num_list_x[i],num_list_y[i])\n",
    "        \n",
    "\n",
    "    if sum(num_list) == 0:\n",
    "        answer = \"-1\"\n",
    "    else:\n",
    "        if sum(num_list[1:]) != 0:\n",
    "            for i in range(9,-1,-1):\n",
    "                answer += str(i)*num_list[i]\n",
    "        else:\n",
    "            answer = \"0\"\n",
    "            \n",
    "    return answer\n",
    "\n"
   ]
  }
 ],
 "metadata": {
  "kernelspec": {
   "display_name": "base",
   "language": "python",
   "name": "python3"
  },
  "language_info": {
   "codemirror_mode": {
    "name": "ipython",
    "version": 3
   },
   "file_extension": ".py",
   "mimetype": "text/x-python",
   "name": "python",
   "nbconvert_exporter": "python",
   "pygments_lexer": "ipython3",
   "version": "3.12.4"
  }
 },
 "nbformat": 4,
 "nbformat_minor": 5
}
